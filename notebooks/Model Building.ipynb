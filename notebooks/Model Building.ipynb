{
 "cells": [
  {
   "cell_type": "markdown",
   "metadata": {},
   "source": [
    "## Modelling Notebook\n",
    "\n",
    "This notebook is to be used for testing out the various models that you want to use. No preprocessing will be done in this notebook. Steps:\n",
    "\n",
    "1. Read in `data/final_data.csv` that you created in the `Data Cleaning.ipynb`\n",
    "2. Try various models and print appropriate metrics (accuracy/MSE etc)\n",
    "3. Pick a final model and save it as `models/model.pkl`"
   ]
  },
  {
   "cell_type": "code",
   "execution_count": 1,
   "metadata": {},
   "outputs": [],
   "source": [
    "import numpy as np\n",
    "import pandas as pd\n",
    "import matplotlib.pyplot as plt\n",
    "import seaborn as sns\n",
    "%matplotlib inline"
   ]
  },
  {
   "cell_type": "code",
   "execution_count": 2,
   "metadata": {},
   "outputs": [],
   "source": [
    "train=pd.read_csv(\"../input/train_data.csv\",index_col=0)\n",
    "validation=pd.read_csv(\"../input/validation_data.csv\",index_col=0)\n",
    "final_test=pd.read_csv(\"../input/test_data.csv\",index_col=0)"
   ]
  },
  {
   "cell_type": "code",
   "execution_count": 3,
   "metadata": {},
   "outputs": [],
   "source": [
    "from sklearn.linear_model import LinearRegression\n",
    "from sklearn.ensemble import RandomForestRegressor, GradientBoostingRegressor\n",
    "from sklearn.metrics import mean_absolute_error,mean_squared_error,r2_score"
   ]
  },
  {
   "cell_type": "code",
   "execution_count": 4,
   "metadata": {},
   "outputs": [],
   "source": [
    "columns=[\"Clearsky DHI\",\"Clearsky DNI\",\"Clearsky GHI\"]\n",
    "target=[\"Clearsky DHI\",\"Clearsky DNI\",\"Clearsky GHI\"]"
   ]
  },
  {
   "cell_type": "code",
   "execution_count": 5,
   "metadata": {},
   "outputs": [],
   "source": [
    "def evaluate(y_true,predictions):\n",
    "    # Performance Metrics\n",
    "    print(\"MSE: \", mean_squared_error(y_true,predictions))\n",
    "    print(\"MAE: \", mean_absolute_error(y_true,predictions))\n",
    "    print(\"R2: \", r2_score(y_true,predictions))\n",
    "\n",
    "\n",
    "def train_and_evaluate(model):\n",
    "    \"\"\"\n",
    "    model: Sklearn model instance\n",
    "    \"\"\"\n",
    "    #Training\n",
    "    X_train=train.drop(columns=columns)\n",
    "    y_train=train[target]\n",
    "    model.fit(X_train,y_train)\n",
    "\n",
    "    # Validation\n",
    "    X_val=validation.drop(columns=columns)\n",
    "    y_val=validation[[\"Clearsky DHI\",\"Clearsky DNI\",\"Clearsky GHI\"]]\n",
    "    predictions=model.predict(X_val)\n",
    "\n",
    "    evaluate(y_val,predictions)\n",
    "\n",
    "def make_submission(model,name):\n",
    "    target=[\"Clearsky DHI\",\"Clearsky DNI\",\"Clearsky GHI\"]\n",
    "    X_test=final_test.drop(columns=columns)\n",
    "    submission=model.predict(X_test)\n",
    "    submission_df=pd.DataFrame(submission,columns=target)\n",
    "    submission_df.to_csv(f\"../output/{name}_submission.csv\",index=False)\n",
    "    return submission_df"
   ]
  },
  {
   "cell_type": "markdown",
   "metadata": {},
   "source": [
    "As we observed earlier, the target has a high number of 0 values. Therefore, it would be a good idea to give every prediction as 0 and check out the error."
   ]
  },
  {
   "cell_type": "code",
   "execution_count": 6,
   "metadata": {},
   "outputs": [
    {
     "name": "stdout",
     "output_type": "stream",
     "text": [
      "MSE:  142230.846712608\n",
      "MAE:  212.12523579165145\n",
      "R2:  -0.7010882923702167\n"
     ]
    }
   ],
   "source": [
    "zeros=np.zeros_like(validation[[\"Clearsky DHI\",\"Clearsky DNI\",\"Clearsky GHI\"]])\n",
    "evaluate(validation[[\"Clearsky DHI\",\"Clearsky DNI\",\"Clearsky GHI\"]],zeros)"
   ]
  },
  {
   "cell_type": "markdown",
   "metadata": {},
   "source": [
    "So despite the overwhelming number of 0s, predicting every number as zero does not seem to give apt results."
   ]
  },
  {
   "cell_type": "code",
   "execution_count": 7,
   "metadata": {},
   "outputs": [
    {
     "name": "stdout",
     "output_type": "stream",
     "text": [
      "MSE:  16216.617746964781\n",
      "MAE:  94.55370071203265\n",
      "R2:  0.7902240553511589\n"
     ]
    }
   ],
   "source": [
    "lr=LinearRegression()\n",
    "train_and_evaluate(lr)"
   ]
  },
  {
   "cell_type": "code",
   "execution_count": 8,
   "metadata": {},
   "outputs": [],
   "source": [
    "df=make_submission(lr,\"Linear_Regression\")"
   ]
  },
  {
   "cell_type": "code",
   "execution_count": 9,
   "metadata": {},
   "outputs": [
    {
     "data": {
      "text/html": [
       "<div>\n",
       "<style scoped>\n",
       "    .dataframe tbody tr th:only-of-type {\n",
       "        vertical-align: middle;\n",
       "    }\n",
       "\n",
       "    .dataframe tbody tr th {\n",
       "        vertical-align: top;\n",
       "    }\n",
       "\n",
       "    .dataframe thead th {\n",
       "        text-align: right;\n",
       "    }\n",
       "</style>\n",
       "<table border=\"1\" class=\"dataframe\">\n",
       "  <thead>\n",
       "    <tr style=\"text-align: right;\">\n",
       "      <th></th>\n",
       "      <th>Clearsky DHI</th>\n",
       "      <th>Clearsky DNI</th>\n",
       "      <th>Clearsky GHI</th>\n",
       "    </tr>\n",
       "  </thead>\n",
       "  <tbody>\n",
       "    <tr>\n",
       "      <th>0</th>\n",
       "      <td>32.249367</td>\n",
       "      <td>160.519083</td>\n",
       "      <td>124.147512</td>\n",
       "    </tr>\n",
       "    <tr>\n",
       "      <th>1</th>\n",
       "      <td>23.592278</td>\n",
       "      <td>108.751498</td>\n",
       "      <td>78.848160</td>\n",
       "    </tr>\n",
       "    <tr>\n",
       "      <th>2</th>\n",
       "      <td>14.808085</td>\n",
       "      <td>56.223867</td>\n",
       "      <td>32.883727</td>\n",
       "    </tr>\n",
       "    <tr>\n",
       "      <th>3</th>\n",
       "      <td>5.939158</td>\n",
       "      <td>3.189539</td>\n",
       "      <td>-13.524092</td>\n",
       "    </tr>\n",
       "    <tr>\n",
       "      <th>4</th>\n",
       "      <td>-2.775102</td>\n",
       "      <td>-54.556086</td>\n",
       "      <td>-61.608000</td>\n",
       "    </tr>\n",
       "    <tr>\n",
       "      <th>...</th>\n",
       "      <td>...</td>\n",
       "      <td>...</td>\n",
       "      <td>...</td>\n",
       "    </tr>\n",
       "    <tr>\n",
       "      <th>17515</th>\n",
       "      <td>65.808666</td>\n",
       "      <td>513.373336</td>\n",
       "      <td>366.856830</td>\n",
       "    </tr>\n",
       "    <tr>\n",
       "      <th>17516</th>\n",
       "      <td>58.507336</td>\n",
       "      <td>469.712910</td>\n",
       "      <td>328.651666</td>\n",
       "    </tr>\n",
       "    <tr>\n",
       "      <th>17517</th>\n",
       "      <td>51.050658</td>\n",
       "      <td>425.123539</td>\n",
       "      <td>289.633627</td>\n",
       "    </tr>\n",
       "    <tr>\n",
       "      <th>17518</th>\n",
       "      <td>42.534793</td>\n",
       "      <td>374.200450</td>\n",
       "      <td>245.073253</td>\n",
       "    </tr>\n",
       "    <tr>\n",
       "      <th>17519</th>\n",
       "      <td>34.230766</td>\n",
       "      <td>324.544104</td>\n",
       "      <td>201.621345</td>\n",
       "    </tr>\n",
       "  </tbody>\n",
       "</table>\n",
       "<p>17520 rows × 3 columns</p>\n",
       "</div>"
      ],
      "text/plain": [
       "       Clearsky DHI  Clearsky DNI  Clearsky GHI\n",
       "0         32.249367    160.519083    124.147512\n",
       "1         23.592278    108.751498     78.848160\n",
       "2         14.808085     56.223867     32.883727\n",
       "3          5.939158      3.189539    -13.524092\n",
       "4         -2.775102    -54.556086    -61.608000\n",
       "...             ...           ...           ...\n",
       "17515     65.808666    513.373336    366.856830\n",
       "17516     58.507336    469.712910    328.651666\n",
       "17517     51.050658    425.123539    289.633627\n",
       "17518     42.534793    374.200450    245.073253\n",
       "17519     34.230766    324.544104    201.621345\n",
       "\n",
       "[17520 rows x 3 columns]"
      ]
     },
     "execution_count": 9,
     "metadata": {},
     "output_type": "execute_result"
    }
   ],
   "source": [
    "df"
   ]
  },
  {
   "cell_type": "code",
   "execution_count": 10,
   "metadata": {},
   "outputs": [
    {
     "name": "stdout",
     "output_type": "stream",
     "text": [
      "MSE:  1078.3916631959894\n",
      "MAE:  14.784712764115568\n",
      "R2:  0.9552035369369095\n"
     ]
    }
   ],
   "source": [
    "rf=RandomForestRegressor()\n",
    "train_and_evaluate(rf)"
   ]
  },
  {
   "cell_type": "markdown",
   "metadata": {},
   "source": [
    "Random Forests seem to be performing quite well even without any tuning. Perhaps tree based models would work better on the dataset."
   ]
  },
  {
   "cell_type": "code",
   "execution_count": 11,
   "metadata": {},
   "outputs": [
    {
     "data": {
      "text/html": [
       "<div>\n",
       "<style scoped>\n",
       "    .dataframe tbody tr th:only-of-type {\n",
       "        vertical-align: middle;\n",
       "    }\n",
       "\n",
       "    .dataframe tbody tr th {\n",
       "        vertical-align: top;\n",
       "    }\n",
       "\n",
       "    .dataframe thead th {\n",
       "        text-align: right;\n",
       "    }\n",
       "</style>\n",
       "<table border=\"1\" class=\"dataframe\">\n",
       "  <thead>\n",
       "    <tr style=\"text-align: right;\">\n",
       "      <th></th>\n",
       "      <th>Clearsky DHI</th>\n",
       "      <th>Clearsky DNI</th>\n",
       "      <th>Clearsky GHI</th>\n",
       "    </tr>\n",
       "  </thead>\n",
       "  <tbody>\n",
       "    <tr>\n",
       "      <th>0</th>\n",
       "      <td>0.00</td>\n",
       "      <td>0.00</td>\n",
       "      <td>0.00</td>\n",
       "    </tr>\n",
       "    <tr>\n",
       "      <th>1</th>\n",
       "      <td>0.00</td>\n",
       "      <td>0.00</td>\n",
       "      <td>0.00</td>\n",
       "    </tr>\n",
       "    <tr>\n",
       "      <th>2</th>\n",
       "      <td>0.00</td>\n",
       "      <td>0.00</td>\n",
       "      <td>0.00</td>\n",
       "    </tr>\n",
       "    <tr>\n",
       "      <th>3</th>\n",
       "      <td>0.00</td>\n",
       "      <td>0.00</td>\n",
       "      <td>0.00</td>\n",
       "    </tr>\n",
       "    <tr>\n",
       "      <th>4</th>\n",
       "      <td>0.00</td>\n",
       "      <td>0.00</td>\n",
       "      <td>0.00</td>\n",
       "    </tr>\n",
       "    <tr>\n",
       "      <th>...</th>\n",
       "      <td>...</td>\n",
       "      <td>...</td>\n",
       "      <td>...</td>\n",
       "    </tr>\n",
       "    <tr>\n",
       "      <th>17515</th>\n",
       "      <td>57.14</td>\n",
       "      <td>571.44</td>\n",
       "      <td>177.21</td>\n",
       "    </tr>\n",
       "    <tr>\n",
       "      <th>17516</th>\n",
       "      <td>40.09</td>\n",
       "      <td>377.26</td>\n",
       "      <td>85.58</td>\n",
       "    </tr>\n",
       "    <tr>\n",
       "      <th>17517</th>\n",
       "      <td>13.29</td>\n",
       "      <td>186.50</td>\n",
       "      <td>18.73</td>\n",
       "    </tr>\n",
       "    <tr>\n",
       "      <th>17518</th>\n",
       "      <td>0.00</td>\n",
       "      <td>0.00</td>\n",
       "      <td>0.00</td>\n",
       "    </tr>\n",
       "    <tr>\n",
       "      <th>17519</th>\n",
       "      <td>0.00</td>\n",
       "      <td>0.00</td>\n",
       "      <td>0.00</td>\n",
       "    </tr>\n",
       "  </tbody>\n",
       "</table>\n",
       "<p>17520 rows × 3 columns</p>\n",
       "</div>"
      ],
      "text/plain": [
       "       Clearsky DHI  Clearsky DNI  Clearsky GHI\n",
       "0              0.00          0.00          0.00\n",
       "1              0.00          0.00          0.00\n",
       "2              0.00          0.00          0.00\n",
       "3              0.00          0.00          0.00\n",
       "4              0.00          0.00          0.00\n",
       "...             ...           ...           ...\n",
       "17515         57.14        571.44        177.21\n",
       "17516         40.09        377.26         85.58\n",
       "17517         13.29        186.50         18.73\n",
       "17518          0.00          0.00          0.00\n",
       "17519          0.00          0.00          0.00\n",
       "\n",
       "[17520 rows x 3 columns]"
      ]
     },
     "execution_count": 11,
     "metadata": {},
     "output_type": "execute_result"
    }
   ],
   "source": [
    "make_submission(rf,\"Random_Forest\")"
   ]
  },
  {
   "cell_type": "code",
   "execution_count": 12,
   "metadata": {},
   "outputs": [
    {
     "data": {
      "text/plain": [
       "<BarContainer object of 2 artists>"
      ]
     },
     "execution_count": 12,
     "metadata": {},
     "output_type": "execute_result"
    },
    {
     "data": {
      "image/png": "[encoded data removed]",
      "text/plain": [
       "<Figure size 432x288 with 1 Axes>"
      ]
     },
     "metadata": {
      "needs_background": "light"
     },
     "output_type": "display_data"
    }
   ],
   "source": [
    "plt.barh(train.drop(columns=columns).columns, rf.feature_importances_)"
   ]
  }
 ],
 "metadata": {
  "interpreter": {
   "hash": "b8bd13e4e7236e19ed9da07df1378feeccc3307f2b4eb1398a5e1961ab0d77df"
  },
  "kernelspec": {
   "display_name": "Python 3.9.0 ('Tensorflow')",
   "language": "python",
   "name": "python3"
  },
  "language_info": {
   "codemirror_mode": {
    "name": "ipython",
    "version": 3
   },
   "file_extension": ".py",
   "mimetype": "text/x-python",
   "name": "python",
   "nbconvert_exporter": "python",
   "pygments_lexer": "ipython3",
   "version": "3.9.0"
  },
  "orig_nbformat": 4
 },
 "nbformat": 4,
 "nbformat_minor": 2
}
