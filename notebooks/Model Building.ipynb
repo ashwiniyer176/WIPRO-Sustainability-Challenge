{
 "cells": [
  {
   "cell_type": "markdown",
   "metadata": {},
   "source": [
    "## Modelling Notebook\n",
    "\n",
    "This notebook is to be used for testing out the various models that you want to use. No preprocessing will be done in this notebook. Steps:\n",
    "\n",
    "1. Read in `data/final_data.csv` that you created in the `Data Cleaning.ipynb`\n",
    "2. Try various models and print appropriate metrics (accuracy/MSE etc)\n",
    "3. Pick a final model and save it as `models/model.pkl`"
   ]
  },
  {
   "cell_type": "code",
   "execution_count": 1,
   "metadata": {},
   "outputs": [],
   "source": [
    "import numpy as np\n",
    "import pandas as pd\n",
    "import matplotlib.pyplot as plt\n",
    "import seaborn as sns\n",
    "%matplotlib inline"
   ]
  },
  {
   "cell_type": "code",
   "execution_count": 2,
   "metadata": {},
   "outputs": [],
   "source": [
    "train=pd.read_csv(\"../input/train_data.csv\",index_col=0)\n",
    "validation=pd.read_csv(\"../input/validation_data.csv\",index_col=0)\n",
    "final_test=pd.read_csv(\"../input/test_data.csv\",index_col=0)"
   ]
  },
  {
   "cell_type": "code",
   "execution_count": 3,
   "metadata": {},
   "outputs": [],
   "source": [
    "from sklearn.linear_model import LinearRegression\n",
    "from sklearn.ensemble import RandomForestRegressor, GradientBoostingRegressor\n",
    "from sklearn.metrics import mean_absolute_error,mean_squared_error,r2_score\n",
    "from sklearn.model_selection import GridSearchCV"
   ]
  },
  {
   "cell_type": "code",
   "execution_count": 4,
   "metadata": {},
   "outputs": [],
   "source": [
    "columns=[\"Clearsky DHI\",\"Clearsky DNI\",\"Clearsky GHI\"]\n",
    "target=[\"Clearsky DHI\",\"Clearsky DNI\",\"Clearsky GHI\"]"
   ]
  },
  {
   "cell_type": "code",
   "execution_count": 5,
   "metadata": {},
   "outputs": [],
   "source": [
    "def evaluate(y_true,predictions):\n",
    "    # Performance Metrics\n",
    "    print(\"MSE: \", mean_squared_error(y_true,predictions))\n",
    "    print(\"MAE: \", mean_absolute_error(y_true,predictions))\n",
    "    print(\"R2: \", r2_score(y_true,predictions))\n",
    "\n",
    "\n",
    "def train_and_evaluate(model):\n",
    "    \"\"\"\n",
    "    model: Sklearn model instance\n",
    "    \"\"\"\n",
    "    #Training\n",
    "    X_train=train.drop(columns=columns)\n",
    "    y_train=train[target]\n",
    "    print(X_train.shape)\n",
    "    model.fit(X_train,y_train)\n",
    "\n",
    "    # Validation\n",
    "    X_val=validation.drop(columns=columns)\n",
    "    y_val=validation[[\"Clearsky DHI\",\"Clearsky DNI\",\"Clearsky GHI\"]]\n",
    "    predictions=model.predict(X_val)\n",
    "\n",
    "    evaluate(y_val,predictions)\n",
    "\n",
    "def make_submission(model,name):\n",
    "    target=[\"Clearsky DHI\",\"Clearsky DNI\",\"Clearsky GHI\"]\n",
    "    X_test=final_test.drop(columns=columns)\n",
    "    submission=model.predict(X_test)\n",
    "    submission_df=pd.DataFrame(submission,columns=target)\n",
    "    submission_df.to_csv(f\"../output/{name}_submission.csv\",index=False)\n",
    "    return submission_df"
   ]
  },
  {
   "cell_type": "markdown",
   "metadata": {},
   "source": [
    "As we observed earlier, the target has a high number of 0 values. Therefore, it would be a good idea to give every prediction as 0 and check out the error."
   ]
  },
  {
   "cell_type": "code",
   "execution_count": 6,
   "metadata": {},
   "outputs": [
    {
     "name": "stdout",
     "output_type": "stream",
     "text": [
      "MSE:  142230.846712608\n",
      "MAE:  212.12523579165145\n",
      "R2:  -0.7010882923702167\n"
     ]
    }
   ],
   "source": [
    "zeros=np.zeros_like(validation[[\"Clearsky DHI\",\"Clearsky DNI\",\"Clearsky GHI\"]])\n",
    "evaluate(validation[[\"Clearsky DHI\",\"Clearsky DNI\",\"Clearsky GHI\"]],zeros)"
   ]
  },
  {
   "cell_type": "markdown",
   "metadata": {},
   "source": [
    "So despite the overwhelming number of 0s, predicting every number as zero does not seem to give apt results."
   ]
  },
  {
   "cell_type": "code",
   "execution_count": 7,
   "metadata": {},
   "outputs": [
    {
     "name": "stdout",
     "output_type": "stream",
     "text": [
      "(131472, 2)\n",
      "MSE:  16216.617746964781\n",
      "MAE:  94.55370071203265\n",
      "R2:  0.7902240553511589\n"
     ]
    }
   ],
   "source": [
    "lr=LinearRegression()\n",
    "train_and_evaluate(lr)"
   ]
  },
  {
   "cell_type": "code",
   "execution_count": 8,
   "metadata": {},
   "outputs": [],
   "source": [
    "df=make_submission(lr,\"Linear_Regression\")"
   ]
  },
  {
   "cell_type": "code",
   "execution_count": 9,
   "metadata": {},
   "outputs": [
    {
     "data": {
      "text/html": [
       "<div>\n",
       "<style scoped>\n",
       "    .dataframe tbody tr th:only-of-type {\n",
       "        vertical-align: middle;\n",
       "    }\n",
       "\n",
       "    .dataframe tbody tr th {\n",
       "        vertical-align: top;\n",
       "    }\n",
       "\n",
       "    .dataframe thead th {\n",
       "        text-align: right;\n",
       "    }\n",
       "</style>\n",
       "<table border=\"1\" class=\"dataframe\">\n",
       "  <thead>\n",
       "    <tr style=\"text-align: right;\">\n",
       "      <th></th>\n",
       "      <th>Clearsky DHI</th>\n",
       "      <th>Clearsky DNI</th>\n",
       "      <th>Clearsky GHI</th>\n",
       "    </tr>\n",
       "  </thead>\n",
       "  <tbody>\n",
       "    <tr>\n",
       "      <th>0</th>\n",
       "      <td>32.249367</td>\n",
       "      <td>160.519083</td>\n",
       "      <td>124.147512</td>\n",
       "    </tr>\n",
       "    <tr>\n",
       "      <th>1</th>\n",
       "      <td>23.592278</td>\n",
       "      <td>108.751498</td>\n",
       "      <td>78.848160</td>\n",
       "    </tr>\n",
       "    <tr>\n",
       "      <th>2</th>\n",
       "      <td>14.808085</td>\n",
       "      <td>56.223867</td>\n",
       "      <td>32.883727</td>\n",
       "    </tr>\n",
       "    <tr>\n",
       "      <th>3</th>\n",
       "      <td>5.939158</td>\n",
       "      <td>3.189539</td>\n",
       "      <td>-13.524092</td>\n",
       "    </tr>\n",
       "    <tr>\n",
       "      <th>4</th>\n",
       "      <td>-2.775102</td>\n",
       "      <td>-54.556086</td>\n",
       "      <td>-61.608000</td>\n",
       "    </tr>\n",
       "    <tr>\n",
       "      <th>...</th>\n",
       "      <td>...</td>\n",
       "      <td>...</td>\n",
       "      <td>...</td>\n",
       "    </tr>\n",
       "    <tr>\n",
       "      <th>17515</th>\n",
       "      <td>65.808666</td>\n",
       "      <td>513.373336</td>\n",
       "      <td>366.856830</td>\n",
       "    </tr>\n",
       "    <tr>\n",
       "      <th>17516</th>\n",
       "      <td>58.507336</td>\n",
       "      <td>469.712910</td>\n",
       "      <td>328.651666</td>\n",
       "    </tr>\n",
       "    <tr>\n",
       "      <th>17517</th>\n",
       "      <td>51.050658</td>\n",
       "      <td>425.123539</td>\n",
       "      <td>289.633627</td>\n",
       "    </tr>\n",
       "    <tr>\n",
       "      <th>17518</th>\n",
       "      <td>42.534793</td>\n",
       "      <td>374.200450</td>\n",
       "      <td>245.073253</td>\n",
       "    </tr>\n",
       "    <tr>\n",
       "      <th>17519</th>\n",
       "      <td>34.230766</td>\n",
       "      <td>324.544104</td>\n",
       "      <td>201.621345</td>\n",
       "    </tr>\n",
       "  </tbody>\n",
       "</table>\n",
       "<p>17520 rows × 3 columns</p>\n",
       "</div>"
      ],
      "text/plain": [
       "       Clearsky DHI  Clearsky DNI  Clearsky GHI\n",
       "0         32.249367    160.519083    124.147512\n",
       "1         23.592278    108.751498     78.848160\n",
       "2         14.808085     56.223867     32.883727\n",
       "3          5.939158      3.189539    -13.524092\n",
       "4         -2.775102    -54.556086    -61.608000\n",
       "...             ...           ...           ...\n",
       "17515     65.808666    513.373336    366.856830\n",
       "17516     58.507336    469.712910    328.651666\n",
       "17517     51.050658    425.123539    289.633627\n",
       "17518     42.534793    374.200450    245.073253\n",
       "17519     34.230766    324.544104    201.621345\n",
       "\n",
       "[17520 rows x 3 columns]"
      ]
     },
     "execution_count": 9,
     "metadata": {},
     "output_type": "execute_result"
    }
   ],
   "source": [
    "df"
   ]
  },
  {
   "cell_type": "code",
   "execution_count": 10,
   "metadata": {},
   "outputs": [
    {
     "name": "stdout",
     "output_type": "stream",
     "text": [
      "(131472, 2)\n",
      "MSE:  1076.0131805144026\n",
      "MAE:  14.766629267400281\n",
      "R2:  0.9552603958400727\n"
     ]
    }
   ],
   "source": [
    "rf=RandomForestRegressor()\n",
    "train_and_evaluate(rf)"
   ]
  },
  {
   "cell_type": "markdown",
   "metadata": {},
   "source": [
    "Random Forests seem to be performing quite well even without any tuning. Perhaps tree based models would work better on the dataset."
   ]
  },
  {
   "cell_type": "code",
   "execution_count": null,
   "metadata": {},
   "outputs": [],
   "source": []
  },
  {
   "cell_type": "code",
   "execution_count": 11,
   "metadata": {},
   "outputs": [
    {
     "data": {
      "text/html": [
       "<div>\n",
       "<style scoped>\n",
       "    .dataframe tbody tr th:only-of-type {\n",
       "        vertical-align: middle;\n",
       "    }\n",
       "\n",
       "    .dataframe tbody tr th {\n",
       "        vertical-align: top;\n",
       "    }\n",
       "\n",
       "    .dataframe thead th {\n",
       "        text-align: right;\n",
       "    }\n",
       "</style>\n",
       "<table border=\"1\" class=\"dataframe\">\n",
       "  <thead>\n",
       "    <tr style=\"text-align: right;\">\n",
       "      <th></th>\n",
       "      <th>Clearsky DHI</th>\n",
       "      <th>Clearsky DNI</th>\n",
       "      <th>Clearsky GHI</th>\n",
       "    </tr>\n",
       "  </thead>\n",
       "  <tbody>\n",
       "    <tr>\n",
       "      <th>0</th>\n",
       "      <td>0.00</td>\n",
       "      <td>0.00</td>\n",
       "      <td>0.00</td>\n",
       "    </tr>\n",
       "    <tr>\n",
       "      <th>1</th>\n",
       "      <td>0.00</td>\n",
       "      <td>0.00</td>\n",
       "      <td>0.00</td>\n",
       "    </tr>\n",
       "    <tr>\n",
       "      <th>2</th>\n",
       "      <td>0.00</td>\n",
       "      <td>0.00</td>\n",
       "      <td>0.00</td>\n",
       "    </tr>\n",
       "    <tr>\n",
       "      <th>3</th>\n",
       "      <td>0.00</td>\n",
       "      <td>0.00</td>\n",
       "      <td>0.00</td>\n",
       "    </tr>\n",
       "    <tr>\n",
       "      <th>4</th>\n",
       "      <td>0.00</td>\n",
       "      <td>0.00</td>\n",
       "      <td>0.00</td>\n",
       "    </tr>\n",
       "    <tr>\n",
       "      <th>...</th>\n",
       "      <td>...</td>\n",
       "      <td>...</td>\n",
       "      <td>...</td>\n",
       "    </tr>\n",
       "    <tr>\n",
       "      <th>17515</th>\n",
       "      <td>55.97</td>\n",
       "      <td>583.50</td>\n",
       "      <td>178.75</td>\n",
       "    </tr>\n",
       "    <tr>\n",
       "      <th>17516</th>\n",
       "      <td>40.26</td>\n",
       "      <td>379.12</td>\n",
       "      <td>86.15</td>\n",
       "    </tr>\n",
       "    <tr>\n",
       "      <th>17517</th>\n",
       "      <td>13.15</td>\n",
       "      <td>184.39</td>\n",
       "      <td>18.43</td>\n",
       "    </tr>\n",
       "    <tr>\n",
       "      <th>17518</th>\n",
       "      <td>0.00</td>\n",
       "      <td>0.00</td>\n",
       "      <td>0.00</td>\n",
       "    </tr>\n",
       "    <tr>\n",
       "      <th>17519</th>\n",
       "      <td>0.00</td>\n",
       "      <td>0.00</td>\n",
       "      <td>0.00</td>\n",
       "    </tr>\n",
       "  </tbody>\n",
       "</table>\n",
       "<p>17520 rows × 3 columns</p>\n",
       "</div>"
      ],
      "text/plain": [
       "       Clearsky DHI  Clearsky DNI  Clearsky GHI\n",
       "0              0.00          0.00          0.00\n",
       "1              0.00          0.00          0.00\n",
       "2              0.00          0.00          0.00\n",
       "3              0.00          0.00          0.00\n",
       "4              0.00          0.00          0.00\n",
       "...             ...           ...           ...\n",
       "17515         55.97        583.50        178.75\n",
       "17516         40.26        379.12         86.15\n",
       "17517         13.15        184.39         18.43\n",
       "17518          0.00          0.00          0.00\n",
       "17519          0.00          0.00          0.00\n",
       "\n",
       "[17520 rows x 3 columns]"
      ]
     },
     "execution_count": 11,
     "metadata": {},
     "output_type": "execute_result"
    }
   ],
   "source": [
    "make_submission(rf,\"Random_Forest\")"
   ]
  },
  {
   "cell_type": "code",
   "execution_count": 12,
   "metadata": {},
   "outputs": [
    {
     "data": {
      "text/plain": [
       "<BarContainer object of 2 artists>"
      ]
     },
     "execution_count": 12,
     "metadata": {},
     "output_type": "execute_result"
    },
    {
     "data": {
      "image/png": "[encoded data removed]",
      "text/plain": [
       "<Figure size 432x288 with 1 Axes>"
      ]
     },
     "metadata": {
      "needs_background": "light"
     },
     "output_type": "display_data"
    }
   ],
   "source": [
    "plt.barh(train.drop(columns=columns).columns, rf.feature_importances_)"
   ]
  },
  {
   "cell_type": "code",
   "execution_count": 13,
   "metadata": {},
   "outputs": [],
   "source": [
    "# params={\n",
    "#     \"n_estimators\":[150,200,300,500],\n",
    "#     \"max_depth\":[3,4,5]\n",
    "# }\n",
    "# grid=GridSearchCV(rf,params,scoring=\"neg_mean_squared_error\",verbose=2)"
   ]
  },
  {
   "cell_type": "code",
   "execution_count": 14,
   "metadata": {},
   "outputs": [],
   "source": [
    "# train_and_evaluate(grid)"
   ]
  },
  {
   "cell_type": "code",
   "execution_count": 15,
   "metadata": {},
   "outputs": [],
   "source": [
    "import tensorflow as tf\n",
    "from tensorflow.keras import layers\n",
    "from tensorflow.keras.models import Sequential"
   ]
  },
  {
   "cell_type": "code",
   "execution_count": 16,
   "metadata": {},
   "outputs": [],
   "source": [
    "model=Sequential()\n",
    "model.add(layers.Dense(100,input_shape=(train.shape[1]-3,),activation=\"relu\"))\n",
    "model.add(layers.Dense(50,activation=\"relu\"))\n",
    "model.add(layers.Dense(25,activation=\"relu\"))\n",
    "model.add(layers.Dense(3,activation=\"linear\"))"
   ]
  },
  {
   "cell_type": "code",
   "execution_count": 17,
   "metadata": {},
   "outputs": [],
   "source": [
    "model.compile(optimizer=\"adam\",loss=\"mse\",metrics=[\"mse\",\"mae\"])"
   ]
  },
  {
   "cell_type": "code",
   "execution_count": 18,
   "metadata": {},
   "outputs": [],
   "source": [
    "X_train=train.drop(columns=columns)\n",
    "y_train=train[columns]\n",
    "X_val=validation.drop(columns=columns)\n",
    "y_val=validation[columns]"
   ]
  },
  {
   "cell_type": "code",
   "execution_count": 19,
   "metadata": {},
   "outputs": [
    {
     "name": "stdout",
     "output_type": "stream",
     "text": [
      "Epoch 1/50\n",
      "2055/2055 [==============================] - 2s 777us/step - loss: 34033.0039 - mse: 34033.0039 - mae: 97.5585 - val_loss: 1962.8739 - val_mse: 1962.8739 - val_mae: 29.3646\n",
      "Epoch 2/50\n",
      "2055/2055 [==============================] - 2s 733us/step - loss: 1561.7246 - mse: 1561.7246 - mae: 24.8928 - val_loss: 2767.0901 - val_mse: 2767.0901 - val_mae: 32.9008\n",
      "Epoch 3/50\n",
      "2055/2055 [==============================] - 2s 735us/step - loss: 1247.0393 - mse: 1247.0393 - mae: 20.6908 - val_loss: 1308.5973 - val_mse: 1308.5973 - val_mae: 21.4568\n",
      "Epoch 4/50\n",
      "2055/2055 [==============================] - 1s 722us/step - loss: 1145.3910 - mse: 1145.3910 - mae: 18.9583 - val_loss: 1131.1921 - val_mse: 1131.1921 - val_mae: 19.0975\n",
      "Epoch 5/50\n",
      "2055/2055 [==============================] - 2s 736us/step - loss: 1119.9951 - mse: 1119.9951 - mae: 18.1855 - val_loss: 932.3904 - val_mse: 932.3904 - val_mae: 17.1154\n",
      "Epoch 6/50\n",
      "2055/2055 [==============================] - 1s 716us/step - loss: 1092.6693 - mse: 1092.6693 - mae: 17.4791 - val_loss: 1016.2493 - val_mse: 1016.2493 - val_mae: 16.9360\n",
      "Epoch 7/50\n",
      "2055/2055 [==============================] - 2s 736us/step - loss: 1056.9126 - mse: 1056.9126 - mae: 16.7279 - val_loss: 824.8925 - val_mse: 824.8925 - val_mae: 15.2496\n",
      "Epoch 8/50\n",
      "2055/2055 [==============================] - 2s 763us/step - loss: 1054.7499 - mse: 1054.7499 - mae: 16.3880 - val_loss: 871.8423 - val_mse: 871.8423 - val_mae: 15.0377\n",
      "Epoch 9/50\n",
      "2055/2055 [==============================] - 2s 738us/step - loss: 1069.5674 - mse: 1069.5674 - mae: 16.4415 - val_loss: 998.7864 - val_mse: 998.7864 - val_mae: 15.6978\n",
      "Epoch 10/50\n",
      "2055/2055 [==============================] - 2s 732us/step - loss: 1046.4062 - mse: 1046.4062 - mae: 16.1046 - val_loss: 977.2904 - val_mse: 977.2904 - val_mae: 15.3783\n",
      "Epoch 11/50\n",
      "2055/2055 [==============================] - 1s 708us/step - loss: 1028.6211 - mse: 1028.6211 - mae: 15.8530 - val_loss: 2918.8892 - val_mse: 2918.8892 - val_mae: 30.8823\n",
      "Epoch 12/50\n",
      "2055/2055 [==============================] - 1s 729us/step - loss: 1043.2858 - mse: 1043.2858 - mae: 16.0581 - val_loss: 994.4665 - val_mse: 994.4665 - val_mae: 18.0016\n",
      "Epoch 13/50\n",
      "2055/2055 [==============================] - 1s 720us/step - loss: 1029.6862 - mse: 1029.6862 - mae: 15.8036 - val_loss: 828.2594 - val_mse: 828.2594 - val_mae: 14.3995\n",
      "Epoch 14/50\n",
      "2055/2055 [==============================] - 2s 742us/step - loss: 1031.5352 - mse: 1031.5352 - mae: 15.8571 - val_loss: 835.2600 - val_mse: 835.2600 - val_mae: 14.2301\n",
      "Epoch 15/50\n",
      "2055/2055 [==============================] - 1s 726us/step - loss: 1018.4451 - mse: 1018.4451 - mae: 15.6622 - val_loss: 850.3802 - val_mse: 850.3802 - val_mae: 14.5090\n",
      "Epoch 16/50\n",
      "2055/2055 [==============================] - 1s 727us/step - loss: 1021.5251 - mse: 1021.5251 - mae: 15.6684 - val_loss: 1056.4312 - val_mse: 1056.4312 - val_mae: 16.2507\n",
      "Epoch 17/50\n",
      "2055/2055 [==============================] - 2s 732us/step - loss: 1016.3120 - mse: 1016.3120 - mae: 15.6380 - val_loss: 892.7308 - val_mse: 892.7308 - val_mae: 15.2843\n",
      "Epoch 18/50\n",
      "2055/2055 [==============================] - 1s 719us/step - loss: 1028.3855 - mse: 1028.3855 - mae: 15.7371 - val_loss: 800.5940 - val_mse: 800.5940 - val_mae: 13.6674\n",
      "Epoch 19/50\n",
      "2055/2055 [==============================] - 1s 722us/step - loss: 1025.7885 - mse: 1025.7885 - mae: 15.7388 - val_loss: 869.0668 - val_mse: 869.0668 - val_mae: 15.4094\n",
      "Epoch 20/50\n",
      "2055/2055 [==============================] - 2s 730us/step - loss: 1037.5535 - mse: 1037.5535 - mae: 15.7573 - val_loss: 1267.2521 - val_mse: 1267.2521 - val_mae: 18.5550\n",
      "Epoch 21/50\n",
      "2055/2055 [==============================] - 1s 712us/step - loss: 1021.7596 - mse: 1021.7596 - mae: 15.6353 - val_loss: 872.0629 - val_mse: 872.0629 - val_mae: 14.7377\n",
      "Epoch 22/50\n",
      "2055/2055 [==============================] - 2s 738us/step - loss: 1009.2199 - mse: 1009.2199 - mae: 15.5177 - val_loss: 904.4595 - val_mse: 904.4595 - val_mae: 14.4246\n",
      "Epoch 23/50\n",
      "2055/2055 [==============================] - 1s 724us/step - loss: 1000.9901 - mse: 1000.9901 - mae: 15.4293 - val_loss: 1433.5144 - val_mse: 1433.5144 - val_mae: 20.3152\n",
      "Epoch 24/50\n",
      "2055/2055 [==============================] - 1s 717us/step - loss: 1018.9019 - mse: 1018.9019 - mae: 15.6257 - val_loss: 1462.4045 - val_mse: 1462.4045 - val_mae: 20.2078\n",
      "Epoch 25/50\n",
      "2055/2055 [==============================] - 2s 741us/step - loss: 1007.2290 - mse: 1007.2290 - mae: 15.4948 - val_loss: 862.4440 - val_mse: 862.4440 - val_mae: 14.1730\n",
      "Epoch 26/50\n",
      "2055/2055 [==============================] - 1s 721us/step - loss: 1014.8831 - mse: 1014.8831 - mae: 15.5382 - val_loss: 817.6144 - val_mse: 817.6144 - val_mae: 14.8795\n",
      "Epoch 27/50\n",
      "2055/2055 [==============================] - 1s 728us/step - loss: 1010.1981 - mse: 1010.1981 - mae: 15.4896 - val_loss: 809.2327 - val_mse: 809.2327 - val_mae: 14.1552\n",
      "Epoch 28/50\n",
      "2055/2055 [==============================] - 2s 752us/step - loss: 1005.4700 - mse: 1005.4700 - mae: 15.4408 - val_loss: 918.1791 - val_mse: 918.1791 - val_mae: 15.7247\n",
      "Epoch 29/50\n",
      "2055/2055 [==============================] - 1s 714us/step - loss: 997.0056 - mse: 997.0056 - mae: 15.2567 - val_loss: 1311.1031 - val_mse: 1311.1031 - val_mae: 19.1005\n",
      "Epoch 30/50\n",
      "2055/2055 [==============================] - 1s 717us/step - loss: 998.9884 - mse: 998.9884 - mae: 15.3337 - val_loss: 949.2776 - val_mse: 949.2776 - val_mae: 15.3449\n",
      "Epoch 31/50\n",
      "2055/2055 [==============================] - 1s 728us/step - loss: 1004.8489 - mse: 1004.8489 - mae: 15.3508 - val_loss: 823.4863 - val_mse: 823.4863 - val_mae: 14.3644\n",
      "Epoch 32/50\n",
      "2055/2055 [==============================] - 1s 711us/step - loss: 1014.1903 - mse: 1014.1903 - mae: 15.5288 - val_loss: 1006.0534 - val_mse: 1006.0534 - val_mae: 15.8697\n",
      "Epoch 33/50\n",
      "2055/2055 [==============================] - 1s 729us/step - loss: 996.6548 - mse: 996.6548 - mae: 15.2616 - val_loss: 868.7023 - val_mse: 868.7023 - val_mae: 16.1536\n",
      "Epoch 34/50\n",
      "2055/2055 [==============================] - 1s 716us/step - loss: 1015.8552 - mse: 1015.8552 - mae: 15.5331 - val_loss: 1066.5056 - val_mse: 1066.5056 - val_mae: 16.2270\n",
      "Epoch 35/50\n",
      "2055/2055 [==============================] - 1s 714us/step - loss: 1000.0959 - mse: 1000.0959 - mae: 15.2970 - val_loss: 1226.3700 - val_mse: 1226.3700 - val_mae: 18.8547\n",
      "Epoch 36/50\n",
      "2055/2055 [==============================] - 2s 734us/step - loss: 995.5644 - mse: 995.5644 - mae: 15.3018 - val_loss: 813.8740 - val_mse: 813.8740 - val_mae: 13.5776\n",
      "Epoch 37/50\n",
      "2055/2055 [==============================] - 1s 720us/step - loss: 994.7899 - mse: 994.7899 - mae: 15.2518 - val_loss: 933.7729 - val_mse: 933.7729 - val_mae: 16.7251\n",
      "Epoch 38/50\n",
      "2055/2055 [==============================] - 1s 712us/step - loss: 1003.0927 - mse: 1003.0927 - mae: 15.3034 - val_loss: 869.9363 - val_mse: 869.9363 - val_mae: 14.3857\n",
      "Epoch 39/50\n",
      "2055/2055 [==============================] - 2s 734us/step - loss: 990.7336 - mse: 990.7336 - mae: 15.1352 - val_loss: 924.0914 - val_mse: 924.0914 - val_mae: 15.1082\n",
      "Epoch 40/50\n",
      "2055/2055 [==============================] - 1s 724us/step - loss: 983.5703 - mse: 983.5703 - mae: 15.0696 - val_loss: 942.3475 - val_mse: 942.3475 - val_mae: 15.1409\n",
      "Epoch 41/50\n",
      "2055/2055 [==============================] - 2s 755us/step - loss: 994.8676 - mse: 994.8676 - mae: 15.1661 - val_loss: 840.5404 - val_mse: 840.5404 - val_mae: 14.3744\n",
      "Epoch 42/50\n",
      "2055/2055 [==============================] - 1s 725us/step - loss: 997.7311 - mse: 997.7311 - mae: 15.2327 - val_loss: 836.7919 - val_mse: 836.7919 - val_mae: 13.8439\n",
      "Epoch 43/50\n",
      "2055/2055 [==============================] - 2s 739us/step - loss: 1003.6322 - mse: 1003.6322 - mae: 15.3332 - val_loss: 993.9132 - val_mse: 993.9132 - val_mae: 15.4281\n",
      "Epoch 44/50\n",
      "2055/2055 [==============================] - 1s 724us/step - loss: 989.0121 - mse: 989.0121 - mae: 15.1455 - val_loss: 893.6566 - val_mse: 893.6566 - val_mae: 14.5857\n",
      "Epoch 45/50\n",
      "2055/2055 [==============================] - 2s 744us/step - loss: 990.2722 - mse: 990.2722 - mae: 15.1147 - val_loss: 840.3188 - val_mse: 840.3188 - val_mae: 14.1488\n",
      "Epoch 46/50\n",
      "2055/2055 [==============================] - 2s 736us/step - loss: 979.9726 - mse: 979.9726 - mae: 15.0038 - val_loss: 889.3751 - val_mse: 889.3751 - val_mae: 14.1850\n",
      "Epoch 47/50\n",
      "2055/2055 [==============================] - 2s 756us/step - loss: 1001.0114 - mse: 1001.0114 - mae: 15.2945 - val_loss: 878.1185 - val_mse: 878.1185 - val_mae: 15.5682\n",
      "Epoch 48/50\n",
      "2055/2055 [==============================] - 2s 887us/step - loss: 981.1861 - mse: 981.1861 - mae: 15.0087 - val_loss: 1047.1887 - val_mse: 1047.1887 - val_mae: 15.4769\n",
      "Epoch 49/50\n",
      "2055/2055 [==============================] - 2s 787us/step - loss: 984.3626 - mse: 984.3626 - mae: 15.0609 - val_loss: 1079.0460 - val_mse: 1079.0460 - val_mae: 16.4031\n",
      "Epoch 50/50\n",
      "2055/2055 [==============================] - 2s 804us/step - loss: 979.2299 - mse: 979.2299 - mae: 14.9573 - val_loss: 919.0942 - val_mse: 919.0942 - val_mae: 14.6695\n"
     ]
    }
   ],
   "source": [
    "performance = model.fit(X_train, y_train, batch_size=64,\n",
    "                    epochs=50, validation_data=(X_val, y_val),shuffle=False)"
   ]
  },
  {
   "cell_type": "code",
   "execution_count": 20,
   "metadata": {},
   "outputs": [
    {
     "data": {
      "text/plain": [
       "<matplotlib.legend.Legend at 0x179755ceeb0>"
      ]
     },
     "execution_count": 20,
     "metadata": {},
     "output_type": "execute_result"
    },
    {
     "data": {
      "image/png": "[encoded data removed]",
      "text/plain": [
       "<Figure size 432x288 with 1 Axes>"
      ]
     },
     "metadata": {
      "needs_background": "light"
     },
     "output_type": "display_data"
    }
   ],
   "source": [
    "plt.plot(performance.history['loss'])\n",
    "plt.plot(performance.history['val_loss'])\n",
    "plt.legend([\"loss\",\"val_loss\"])"
   ]
  },
  {
   "cell_type": "code",
   "execution_count": 21,
   "metadata": {},
   "outputs": [
    {
     "data": {
      "text/plain": [
       "<matplotlib.legend.Legend at 0x1798b6ed610>"
      ]
     },
     "execution_count": 21,
     "metadata": {},
     "output_type": "execute_result"
    },
    {
     "data": {
      "image/png": "[encoded data removed]",
      "text/plain": [
       "<Figure size 432x288 with 1 Axes>"
      ]
     },
     "metadata": {
      "needs_background": "light"
     },
     "output_type": "display_data"
    }
   ],
   "source": [
    "plt.plot(performance.history['mse'])\n",
    "plt.plot(performance.history['val_mse'])\n",
    "plt.legend([\"mse\",\"val_mse\"])"
   ]
  },
  {
   "cell_type": "code",
   "execution_count": null,
   "metadata": {},
   "outputs": [],
   "source": []
  },
  {
   "cell_type": "code",
   "execution_count": null,
   "metadata": {},
   "outputs": [],
   "source": []
  }
 ],
 "metadata": {
  "interpreter": {
   "hash": "b8bd13e4e7236e19ed9da07df1378feeccc3307f2b4eb1398a5e1961ab0d77df"
  },
  "kernelspec": {
   "display_name": "Python 3.9.0 ('Tensorflow')",
   "language": "python",
   "name": "python3"
  },
  "language_info": {
   "codemirror_mode": {
    "name": "ipython",
    "version": 3
   },
   "file_extension": ".py",
   "mimetype": "text/x-python",
   "name": "python",
   "nbconvert_exporter": "python",
   "pygments_lexer": "ipython3",
   "version": "3.9.0"
  },
  "orig_nbformat": 4
 },
 "nbformat": 4,
 "nbformat_minor": 2
}
